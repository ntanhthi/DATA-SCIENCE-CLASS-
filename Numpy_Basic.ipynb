{
  "nbformat": 4,
  "nbformat_minor": 0,
  "metadata": {
    "colab": {
      "provenance": [],
      "authorship_tag": "ABX9TyNpeGcSiIphZI8MIR2wduPq",
      "include_colab_link": true
    },
    "kernelspec": {
      "name": "python3",
      "display_name": "Python 3"
    },
    "language_info": {
      "name": "python"
    }
  },
  "cells": [
    {
      "cell_type": "markdown",
      "metadata": {
        "id": "view-in-github",
        "colab_type": "text"
      },
      "source": [
        "<a href=\"https://colab.research.google.com/github/ntanhthi/DATA-SCIENCE-CLASS-/blob/main/Numpy_Basic.ipynb\" target=\"_parent\"><img src=\"https://colab.research.google.com/assets/colab-badge.svg\" alt=\"Open In Colab\"/></a>"
      ]
    },
    {
      "cell_type": "code",
      "execution_count": null,
      "metadata": {
        "colab": {
          "base_uri": "https://localhost:8080/"
        },
        "id": "RuIYPh8yBTbm",
        "outputId": "5e464a4d-6354-407a-f98c-f49962913bfb"
      },
      "outputs": [
        {
          "output_type": "stream",
          "name": "stdout",
          "text": [
            "[1 2 3 4 5]\n"
          ]
        }
      ],
      "source": [
        "import numpy as np\n",
        "\n",
        "list_data = [1,2,3,4,5]\n",
        "array_from_list = np.array(list_data)\n",
        "print(array_from_list)"
      ]
    },
    {
      "cell_type": "code",
      "source": [
        "import numpy as np\n",
        "\n",
        "list_data = [1,2,3,4,5]\n",
        "arr = np.array(list_data)\n",
        "print(\"arr:\", arr)\n",
        "print(\"Shape of arr:\", arr.shape)\n",
        "print(\"Size of arr:\", arr.size)\n",
        "print(\"Type of arr:\", arr.dtype)\n",
        "print(\"Dimension of arr:\", arr.ndim)"
      ],
      "metadata": {
        "colab": {
          "base_uri": "https://localhost:8080/"
        },
        "id": "6Z5ULOIXHN0k",
        "outputId": "f7519da7-4ace-4553-85ff-a6bc2e8d29bb"
      },
      "execution_count": null,
      "outputs": [
        {
          "output_type": "stream",
          "name": "stdout",
          "text": [
            "arr: [1 2 3 4 5]\n",
            "Shape of arr: (5,)\n",
            "Size of arr: 5\n",
            "Type of arr: int64\n",
            "Dimension of arr: 1\n"
          ]
        }
      ]
    },
    {
      "cell_type": "code",
      "source": [
        "import numpy as np\n",
        "\n",
        "zeros_array = np.zeros((2,5))\n",
        "print(zeros_array)"
      ],
      "metadata": {
        "colab": {
          "base_uri": "https://localhost:8080/"
        },
        "id": "k1oiahAWLKNp",
        "outputId": "2c378963-ae59-4a6f-cf70-0f86891b9975"
      },
      "execution_count": null,
      "outputs": [
        {
          "output_type": "stream",
          "name": "stdout",
          "text": [
            "[[0. 0. 0. 0. 0.]\n",
            " [0. 0. 0. 0. 0.]]\n"
          ]
        }
      ]
    },
    {
      "cell_type": "code",
      "source": [
        "import numpy as np\n",
        "\n",
        "ones_array = np.ones((3,3))\n",
        "print(ones_array)"
      ],
      "metadata": {
        "colab": {
          "base_uri": "https://localhost:8080/"
        },
        "id": "q9jeW-ztX_dL",
        "outputId": "ce489d39-33e1-4f83-88c9-03f76c0b288d"
      },
      "execution_count": null,
      "outputs": [
        {
          "output_type": "stream",
          "name": "stdout",
          "text": [
            "[[1. 1. 1.]\n",
            " [1. 1. 1.]\n",
            " [1. 1. 1.]]\n"
          ]
        }
      ]
    },
    {
      "cell_type": "code",
      "source": [
        "import numpy as np\n",
        "\n",
        "full_array = np.full((4,4), 7)\n",
        "print(full_array)"
      ],
      "metadata": {
        "colab": {
          "base_uri": "https://localhost:8080/"
        },
        "id": "FDE5Rs4iYGsF",
        "outputId": "18b45723-b5a5-4ebc-c3a6-45180b42422f"
      },
      "execution_count": null,
      "outputs": [
        {
          "output_type": "stream",
          "name": "stdout",
          "text": [
            "[[7 7 7 7]\n",
            " [7 7 7 7]\n",
            " [7 7 7 7]\n",
            " [7 7 7 7]]\n"
          ]
        }
      ]
    },
    {
      "cell_type": "code",
      "source": [
        "import numpy as np\n",
        "\n",
        "arange_array = np.arange(0, 10, 2)\n",
        "print(arange_array)"
      ],
      "metadata": {
        "colab": {
          "base_uri": "https://localhost:8080/"
        },
        "id": "K_WOTDlSYx7N",
        "outputId": "3bc09c3f-d7b9-4da6-883e-714301b7c4e8"
      },
      "execution_count": null,
      "outputs": [
        {
          "output_type": "stream",
          "name": "stdout",
          "text": [
            "[0 2 4 6 8]\n"
          ]
        }
      ]
    },
    {
      "cell_type": "code",
      "source": [
        "import numpy as np\n",
        "#np.eye là 1 hàm dùng để tạo 1 ma trận đơn vị, trong đó phần tử trên đường chéo chính là 1 và các phần tử còn lại là 0\n",
        "eye_matrix = np.eye(3)\n",
        "print(eye_matrix)"
      ],
      "metadata": {
        "colab": {
          "base_uri": "https://localhost:8080/"
        },
        "id": "wyPkbVMkY51L",
        "outputId": "b27a6bfc-a81c-47ef-9efb-54ab6e237446"
      },
      "execution_count": null,
      "outputs": [
        {
          "output_type": "stream",
          "name": "stdout",
          "text": [
            "[[1. 0. 0.]\n",
            " [0. 1. 0.]\n",
            " [0. 0. 1.]]\n"
          ]
        }
      ]
    },
    {
      "cell_type": "code",
      "source": [
        "import numpy as np\n",
        "\n",
        "#np.random.seed(2024)\n",
        "random_array = np.random.rand(3,3)\n",
        "print(random_array)"
      ],
      "metadata": {
        "colab": {
          "base_uri": "https://localhost:8080/"
        },
        "id": "4rcdo9JqZpTs",
        "outputId": "50dc1d17-60f8-435c-ca4f-1142fb8a69cd"
      },
      "execution_count": null,
      "outputs": [
        {
          "output_type": "stream",
          "name": "stdout",
          "text": [
            "[[0.44829582 0.01910695 0.75259834]\n",
            " [0.60244854 0.96177758 0.66436865]\n",
            " [0.60662962 0.44915131 0.22535416]]\n"
          ]
        }
      ]
    },
    {
      "cell_type": "code",
      "source": [
        "import numpy as np\n",
        "np.random.seed(2024)\n",
        "randint_array = np.random.randint(1, 10, (3,3))\n",
        "print(randint_array)"
      ],
      "metadata": {
        "colab": {
          "base_uri": "https://localhost:8080/"
        },
        "id": "x90JYpC_ZpRY",
        "outputId": "a5731944-518c-49e4-cba6-c08f968f5884"
      },
      "execution_count": null,
      "outputs": [
        {
          "output_type": "stream",
          "name": "stdout",
          "text": [
            "[[9 1 1]\n",
            " [5 8 2]\n",
            " [4 3 1]]\n"
          ]
        }
      ]
    },
    {
      "cell_type": "code",
      "source": [
        "import numpy as np\n",
        "\n",
        "arr1d = np.array([1,2,3,4,5])\n",
        "arr2d = np.array([[1,2,3], [4,5,6], [7,8,9]])\n",
        "\n",
        "first_element = arr1d[0]\n",
        "print(\"Phần tử đầu tiên của arr1d:\", first_element)\n",
        "\n",
        "last_element = arr1d[-1]\n",
        "print(\"Phần tử cuối cùng của arr1d:\", last_element)\n",
        "\n",
        "first_row = arr2d[0]\n",
        "print(\"Dòng đầu tiên của arr2d:\", first_row)"
      ],
      "metadata": {
        "colab": {
          "base_uri": "https://localhost:8080/"
        },
        "id": "ZwNjHiOJcO88",
        "outputId": "baf8148e-c3fb-4804-f826-c54e3d4676f0"
      },
      "execution_count": null,
      "outputs": [
        {
          "output_type": "stream",
          "name": "stdout",
          "text": [
            "Phần tử đầu tiên của arr1d: 1\n",
            "Phần tử cuối cùng của arr1d: 5\n",
            "Dòng đầu tiên của arr2d: [1 2 3]\n"
          ]
        }
      ]
    },
    {
      "cell_type": "code",
      "source": [
        "import numpy as np\n",
        "\n",
        "arr2d = np.array([[1,2,3], [4,5,6], [7,8,9]])\n",
        "print(arr2d)\n",
        "\n",
        "element_1_2 = arr2d[1,1]\n",
        "print(element_1_2)"
      ],
      "metadata": {
        "colab": {
          "base_uri": "https://localhost:8080/"
        },
        "id": "q1nl21cfc6m_",
        "outputId": "a1ff835b-61de-4900-ab85-c6a0627c6677"
      },
      "execution_count": null,
      "outputs": [
        {
          "output_type": "stream",
          "name": "stdout",
          "text": [
            "[[1 2 3]\n",
            " [4 5 6]\n",
            " [7 8 9]]\n",
            "5\n"
          ]
        }
      ]
    },
    {
      "cell_type": "code",
      "source": [
        "import numpy as np\n",
        "\n",
        "arr1d = np.array([1,2,3,4,5])\n",
        "#Slicing trong NumPy cho phép ta trích xuất 1 phần của mãng bằng cách chị định khoàn mục\n",
        "sliced_arr1d = arr1d[1:4]\n",
        "print(\"arr1d:\", sliced_arr1d)\n",
        "print(\"Sclicing arr1d từ chỉ số đến 3:\", sliced_arr1d)"
      ],
      "metadata": {
        "colab": {
          "base_uri": "https://localhost:8080/"
        },
        "id": "aB26-qsuYWu9",
        "outputId": "62b086fa-27f7-499c-e7ce-8abd320f4734"
      },
      "execution_count": null,
      "outputs": [
        {
          "output_type": "stream",
          "name": "stdout",
          "text": [
            "arr1d: [2 3 4]\n",
            "Sclicing arr1d từ chỉ số đến 3: [2 3 4]\n"
          ]
        }
      ]
    },
    {
      "cell_type": "code",
      "source": [],
      "metadata": {
        "id": "yIqDK5zayGX5"
      },
      "execution_count": null,
      "outputs": []
    },
    {
      "cell_type": "code",
      "source": [
        "import numpy as np\n",
        "\n",
        "arr2d = np.array([[1,2,3], [4,5,6], [7,8,9]])\n",
        "\n",
        "sliced_arr2d = arr2d[1:3, 1:]\n",
        "print(\"arr2d:\", arr2d)\n",
        "print(\"Slicing arr2d từ hàng 1 đến 2 và cộ t1 đến cuối cùng: \\n\",sliced_arr2d)"
      ],
      "metadata": {
        "colab": {
          "base_uri": "https://localhost:8080/"
        },
        "id": "wC3tNf_fZUY0",
        "outputId": "82991c4f-18fc-4e35-facb-0b065485a2f5"
      },
      "execution_count": null,
      "outputs": [
        {
          "output_type": "stream",
          "name": "stdout",
          "text": [
            "arr2d: [[1 2 3]\n",
            " [4 5 6]\n",
            " [7 8 9]]\n",
            "Slicing arr2d từ hàng 1 đến 2 và cộ t1 đến cuối cùng: \n",
            " [[5 6]\n",
            " [8 9]]\n"
          ]
        }
      ]
    },
    {
      "cell_type": "code",
      "source": [
        "import numpy as np\n",
        "\n",
        "arr_1 = np.array([1,2,3])\n",
        "arr_2 = np.array([4,5,6])\n",
        "\n",
        "# Nối hai mảng theo trục ngang(axis =0)\n",
        "arr_3 = np.hstack((arr_1,arr_2))\n",
        "# In kết quả\n",
        "print(\"Mảng 1:\\n\", arr_1)\n",
        "print(\"Mảng 2:\\n\", arr_2)\n",
        "print(\"Mảng nối theo trục ngang:\\n\", arr_3)"
      ],
      "metadata": {
        "colab": {
          "base_uri": "https://localhost:8080/"
        },
        "id": "kU5oegZkZz8U",
        "outputId": "2d0ed953-ce04-49f4-a5b6-144d81701caf"
      },
      "execution_count": null,
      "outputs": [
        {
          "output_type": "stream",
          "name": "stdout",
          "text": [
            "Mảng 1:\n",
            " [1 2 3]\n",
            "Mảng 2:\n",
            " [4 5 6]\n",
            "Mảng nối theo trục ngang:\n",
            " [1 2 3 4 5 6]\n"
          ]
        }
      ]
    },
    {
      "cell_type": "code",
      "source": [
        "import numpy as np\n",
        "\n",
        "arr_1 = np.array([1,2,3])\n",
        "arr_2 = np.array([4,5,6])\n",
        "\n",
        "# Nối hai mảng theo trục dọc(axis =1)\n",
        "arr_3 = np.vstack((arr_1,arr_2))\n",
        "# In kết quả\n",
        "print(\"Mảng 1:\\n\", arr_1)\n",
        "print(\"Mảng 2:\\n\", arr_2)\n",
        "print(\"Mảng nối theo trục ngang:\\n\", arr_3)"
      ],
      "metadata": {
        "colab": {
          "base_uri": "https://localhost:8080/"
        },
        "id": "b-uH9nkvbOz2",
        "outputId": "c9440107-2952-442c-a7d6-cdf0aa80b173"
      },
      "execution_count": null,
      "outputs": [
        {
          "output_type": "stream",
          "name": "stdout",
          "text": [
            "Mảng 1:\n",
            " [1 2 3]\n",
            "Mảng 2:\n",
            " [4 5 6]\n",
            "Mảng nối theo trục ngang:\n",
            " [[1 2 3]\n",
            " [4 5 6]]\n"
          ]
        }
      ]
    },
    {
      "cell_type": "code",
      "source": [
        "import numpy as np\n",
        "\n",
        "# Tạo hai array 2D\n",
        "arr_1 = np.array([[1,2,3], [4,5,6]])\n",
        "arr_2 = np.array([[7,8,9], [10,11,12]])\n",
        "\n",
        "# Nối hai mảng theo trục doc axis =0\n",
        "arr_3 = np.concatenate((arr_1,arr_2),axis=0)\n",
        "\n",
        "# Nối hai mảng theo trục ngang axis =1\n",
        "arr_4 = np.concatenate((arr_1,arr_2),axis=1)\n",
        "\n",
        "\n",
        "# In kết quả\n",
        "print(\"Mảng 1:\\n\", arr_1)\n",
        "print(\"Mảng 2:\\n\", arr_2)\n",
        "print(\"Mảng nối theo trục doc (axis=0):\\n\", arr_3)\n",
        "print(\"Mảng nối theo trục ngang (axis=1):\\n\", arr_4)\n"
      ],
      "metadata": {
        "colab": {
          "base_uri": "https://localhost:8080/"
        },
        "id": "hTDs9RPIbpaq",
        "outputId": "442ed283-aa10-4528-8f7c-eac414ed08ba"
      },
      "execution_count": null,
      "outputs": [
        {
          "output_type": "stream",
          "name": "stdout",
          "text": [
            "Mảng 1:\n",
            " [[1 2 3]\n",
            " [4 5 6]]\n",
            "Mảng 2:\n",
            " [[ 7  8  9]\n",
            " [10 11 12]]\n",
            "Mảng nối theo trục doc (axis=0):\n",
            " [[ 1  2  3]\n",
            " [ 4  5  6]\n",
            " [ 7  8  9]\n",
            " [10 11 12]]\n",
            "Mảng nối theo trục ngang (axis=1):\n",
            " [[ 1  2  3  7  8  9]\n",
            " [ 4  5  6 10 11 12]]\n"
          ]
        }
      ]
    },
    {
      "cell_type": "code",
      "source": [
        "import numpy as np\n",
        "\n",
        "arr_1 = np.array([1,2,3])\n",
        "# 1D -> 2D\n",
        "arr_2 = arr_1[np.newaxis, :]\n",
        "# 2D -> 5D\n",
        "arr_3 = arr_2[np.newaxis,:,np.newaxis,:,np.newaxis]\n",
        "# In kết quả\n",
        "print(\"Mảng 1:\\n\", arr_1, arr_1.shape)\n",
        "print(\"Mảng 2:\\n\", arr_2, arr_2.shape)\n",
        "print(\"Mảng 3:\\n\", arr_3, arr_3.shape)"
      ],
      "metadata": {
        "colab": {
          "base_uri": "https://localhost:8080/"
        },
        "id": "10SirOm0dnG2",
        "outputId": "a537f877-9a31-4c41-d250-a9f1c3bad2c4"
      },
      "execution_count": null,
      "outputs": [
        {
          "output_type": "stream",
          "name": "stdout",
          "text": [
            "Mảng 1:\n",
            " [1 2 3] (3,)\n",
            "Mảng 2:\n",
            " [[1 2 3]] (1, 3)\n",
            "Mảng 3:\n",
            " [[[[[1]\n",
            "    [2]\n",
            "    [3]]]]] (1, 1, 1, 3, 1)\n"
          ]
        }
      ]
    },
    {
      "cell_type": "code",
      "source": [
        "import numpy as np\n",
        "\n",
        "arr_1 = np.array([1,2,3])\n",
        "arr_2 = np.expand_dims(arr_1, axis=0)\n",
        "arr_3 = np.expand_dims(arr_2, axis=(0,2,4))\n",
        "\n",
        "print(\"Mảng 1:\\n\", arr_1, arr_1.shape)\n",
        "print(\"Mảng 2:\\n\", arr_2, arr_2.shape)\n",
        "print(\"Mảng 3:\\n\", arr_3, arr_3.shape)"
      ],
      "metadata": {
        "colab": {
          "base_uri": "https://localhost:8080/"
        },
        "id": "H1pl06Ajg5M7",
        "outputId": "d7364d1b-09f0-4c2a-9201-35d11775f729"
      },
      "execution_count": null,
      "outputs": [
        {
          "output_type": "stream",
          "name": "stdout",
          "text": [
            "Mảng 1:\n",
            " [1 2 3] (3,)\n",
            "Mảng 2:\n",
            " [[1 2 3]] (1, 3)\n",
            "Mảng 3:\n",
            " [[[[[1]\n",
            "    [2]\n",
            "    [3]]]]] (1, 1, 1, 3, 1)\n"
          ]
        }
      ]
    },
    {
      "cell_type": "code",
      "source": [
        "import numpy as np\n",
        "\n",
        "# Tạo một array 2D\n",
        "arr_2D = np.array([[1,2,3],[4,5,6]])\n",
        "# (2,3) -> (3,2)\n",
        "new_arr_2D = np.reshape(arr_2D,(3,2))\n",
        "\n",
        "# Chuyển từ 2D -> 1D\n",
        "arr_1D = np.reshape(arr_2D, newshape=(6,))\n",
        "print(\"array 2D:\\n\",arr_2D,arr_2D.shape)\n",
        "print(\"array 2D:\\n\",new_arr_2D,new_arr_2D.shape)\n",
        "print(\"array 1D:\\n\",arr_1D,arr_1D.shape)"
      ],
      "metadata": {
        "colab": {
          "base_uri": "https://localhost:8080/"
        },
        "id": "JZejsUCbiBxi",
        "outputId": "043b6713-ce56-4b88-cfb0-1c2efb7894ac"
      },
      "execution_count": null,
      "outputs": [
        {
          "output_type": "stream",
          "name": "stdout",
          "text": [
            "array 2D:\n",
            " [[1 2 3]\n",
            " [4 5 6]] (2, 3)\n",
            "array 2D:\n",
            " [[1 2]\n",
            " [3 4]\n",
            " [5 6]] (3, 2)\n",
            "array 1D:\n",
            " [1 2 3 4 5 6] (6,)\n"
          ]
        }
      ]
    },
    {
      "cell_type": "code",
      "source": [
        "import numpy as np\n",
        "\n",
        "arr = np.array([1,2,3,4,5])\n",
        "result = np.where(arr > 3)\n",
        "print(result)\n",
        "print(\"Giá trị các phần tử tại vị trí tìm được:\",arr[result])"
      ],
      "metadata": {
        "colab": {
          "base_uri": "https://localhost:8080/"
        },
        "id": "Hq4Ojq-ajd-U",
        "outputId": "7ee7cd55-144c-48bc-cc8f-ed011aaf0f4b"
      },
      "execution_count": null,
      "outputs": [
        {
          "output_type": "stream",
          "name": "stdout",
          "text": [
            "(array([3, 4]),)\n",
            "Giá trị các phần tử tại vị trí tìm được: [4 5]\n"
          ]
        }
      ]
    },
    {
      "cell_type": "code",
      "source": [
        "import numpy as np\n",
        "# Tạo mảng\n",
        "arr = np . array ([1 , 2, 3 , 4 , 5])\n",
        "# Tìm giá trị lớn nhất\n",
        "max_value = np.max( arr )\n",
        "print (\"Giá trị lớn nhất trong mảng:\", max_value )\n",
        "# Tìm giá trị nhỏ nhất\n",
        "min_value = np.min( arr )\n",
        "print (\"Giá trị nhỏ nhất trong mảng:\",min_value )"
      ],
      "metadata": {
        "colab": {
          "base_uri": "https://localhost:8080/"
        },
        "id": "ml1UZ3O6koEg",
        "outputId": "cfa10825-fe14-40bd-e644-f910f28cb16f"
      },
      "execution_count": null,
      "outputs": [
        {
          "output_type": "stream",
          "name": "stdout",
          "text": [
            "Giá trị lớn nhất trong mảng: 5\n",
            "Giá trị nhỏ nhất trong mảng: 1\n"
          ]
        }
      ]
    },
    {
      "cell_type": "code",
      "source": [
        "# aivietnam\n",
        "import numpy as np\n",
        "\n",
        "# Tạo mảng 2 chiều\n",
        "arr2d = np . array ([[1 , 2 , 3] , [4 , 5 , 6]])\n",
        "# Tìm giá trị lớn nhất theo từng chiều\n",
        "max_value_row = np .max( arr2d , axis =1)\n",
        "max_value_col = np .max( arr2d , axis =0)\n",
        "\n",
        "print (\"Giá trị lớn nhất theo hàng trong mảng 2 chiều:\", max_value_row )\n",
        "print (\"Giá trị lớn nhất theo cột trong mảng 2 chiều:\", max_value_col )\n",
        "# Tìm giá trị nhỏ nhất theo từng chi ều\n",
        "min_value_row = np .min( arr2d , axis =1)\n",
        "min_value_col = np .min( arr2d , axis =0)\n",
        "print (\"Giá trị nhỏ nhất theo hàng trong mảng 2 chiều:\", min_value_row )\n",
        "print (\"Giá trị nhỏ nhất theo cột trong mảng 2 chiều:\", min_value_col )"
      ],
      "metadata": {
        "colab": {
          "base_uri": "https://localhost:8080/"
        },
        "id": "FZTW7oxplRFF",
        "outputId": "3ec8fb1d-c9c7-4634-87e2-4d1d42ec09ac"
      },
      "execution_count": null,
      "outputs": [
        {
          "output_type": "stream",
          "name": "stdout",
          "text": [
            "Giá trị lớn nhất theo hàng trong mảng 2 chiều: [3 6]\n",
            "Giá trị lớn nhất theo cột trong mảng 2 chiều: [4 5 6]\n",
            "Giá trị nhỏ nhất theo hàng trong mảng 2 chi ều: [1 4]\n",
            "Giá trị nhỏ nhất theo cột trong mảng 2 chiều: [1 2 3]\n"
          ]
        }
      ]
    },
    {
      "cell_type": "code",
      "source": [
        "import numpy as np\n",
        "\n",
        "# Tạo mảng 2 chiều\n",
        "arr2d = np . array ([[1 , 2 , 11] , [4 , 8 , 6]])\n",
        "# Tìm chỉ số của giá trị lớn nhất trong toàn bộ mảng\n",
        "index_max2d = np . argmax ( arr2d )\n",
        "print (\"Chỉ số của giá trị lớn nhất trong mảng 2 chiều:\", index_max2d )\n",
        "\n",
        "# Tìm chỉ số của giá trị nhỏ nhất trong toàn bộ mảng\n",
        "index_min2d = np . argmin ( arr2d )\n",
        "print (\"Chỉ số của giá trị nhỏ nhất trong mảng 2 chiều:\", index_min2d )\n",
        "\n",
        "# Tìm chỉ số của giá trị lớn nhất theo từng hàng\n",
        "index_max_row = np . argmax ( arr2d , axis =1)\n",
        "print (\"Chỉ số của giá trị lớn nhất theo từng hàng trong mảng 2 chiều:\",index_max_row )\n",
        "\n",
        "# Tìm chỉ số của giá trị lớn nhất theo từng cột\n",
        "index_max_col = np . argmax ( arr2d , axis =0)\n",
        "print (\"Chỉ số của giá trị lớn nhất theo từng cột trong mảng 2 chiều:\",index_max_col )"
      ],
      "metadata": {
        "colab": {
          "base_uri": "https://localhost:8080/"
        },
        "id": "_5bmNERonTQW",
        "outputId": "5223bbd5-41bd-4db6-ec88-45b72e93a2f3"
      },
      "execution_count": null,
      "outputs": [
        {
          "output_type": "stream",
          "name": "stdout",
          "text": [
            "Chỉ số của giá trị lớn nhất trong mảng 2 chiều: 2\n",
            "Chỉ số của giá trị nhỏ nhất trong mảng 2 chiều: 0\n",
            "Chỉ số của giá trị lớn nhất theo từng hàng trong mảng 2 chiều: [2 1]\n",
            "Chỉ số của giá trị lớn nhất theo từng cột trong mảng 2 chiều: [1 1 0]\n"
          ]
        }
      ]
    },
    {
      "cell_type": "code",
      "source": [
        "import numpy as np\n",
        "\n",
        "arr2d = np.array([[3,2,1],[6,0,5]])\n",
        "sorted_arr2d = np.sort(arr2d)\n",
        "print(\"Sắp xếp mảng theo mặc định: \\n\",sorted_arr2d)\n",
        "#Sắp xếp theo từng hàng\n",
        "sorted_arr2d_row = np.sort(arr2d,axis=1)\n",
        "print(\"Sắp xếp theo từng hàng: \\n\",sorted_arr2d_row)\n",
        "#Sắp xếp theo từng cột\n",
        "sorted_arr2d_col = np.sort(arr2d,axis=0)\n",
        "print(\"Sắp xếp theo từng cột: \\n\",sorted_arr2d_col)"
      ],
      "metadata": {
        "colab": {
          "base_uri": "https://localhost:8080/"
        },
        "id": "BEUjeIvAyJdj",
        "outputId": "1199cfa2-5956-4f72-af1a-2bf7501fd656"
      },
      "execution_count": 2,
      "outputs": [
        {
          "output_type": "stream",
          "name": "stdout",
          "text": [
            "Sắp xếp mảng theo mặc định: \n",
            " [[1 2 3]\n",
            " [0 5 6]]\n",
            "Sắp xếp theo từng hàng: \n",
            " [[1 2 3]\n",
            " [0 5 6]]\n",
            "Sắp xếp theo từng cột: \n",
            " [[3 0 1]\n",
            " [6 2 5]]\n"
          ]
        }
      ]
    },
    {
      "cell_type": "code",
      "source": [
        "import numpy as np\n",
        "\n",
        "arr_1 = np.array([1,2,3,4])\n",
        "arr_2 = np.array([5,6,7,8])\n",
        "\n",
        "arr_add_1 = arr_1 + arr_2\n",
        "arr_add_2 = np.add(arr_1,arr_2)\n",
        "# In ra màn hình\n",
        "print ( f\" arr_1 = \\n{ arr_1 }\")\n",
        "print ( f\" arr_2 = \\n{ arr_2 }\")\n",
        "print (\" arr_1 + arr_2 \")\n",
        "print ( f\" arr_add_1 = \\n{ arr_add_1 }\")\n",
        "print ( f\" arr_add_2 = \\n{ arr_add_2 }\")\n",
        "\n"
      ],
      "metadata": {
        "colab": {
          "base_uri": "https://localhost:8080/"
        },
        "id": "v45N1OZgypJC",
        "outputId": "1551f4a2-ff0d-42b9-d7b4-034dc5f68b31"
      },
      "execution_count": 4,
      "outputs": [
        {
          "output_type": "stream",
          "name": "stdout",
          "text": [
            " arr_1 = \n",
            "[1 2 3 4]\n",
            " arr_2 = \n",
            "[5 6 7 8]\n",
            " arr_1 + arr_2 \n",
            " arr_add_1 = \n",
            "[ 6  8 10 12]\n",
            " arr_add_2 = \n",
            "[ 6  8 10 12]\n"
          ]
        }
      ]
    },
    {
      "cell_type": "code",
      "source": [
        "import numpy as np\n",
        "# Tạo hai mảng 1D\n",
        "arr_1 = np . array ([1 , 2 , 3 , 4])\n",
        "arr_2 = np . array ([5 , 6 , 7 , 8])\n",
        "print (\" arr_1 :\", arr_1 )\n",
        "print (\" arr_2 :\", arr_2 )\n",
        "# Hiệu hai array\n",
        "# Cách 1: Sử dụng toán tử ’-’\n",
        "array_sub_1 = arr_1 - arr_2\n",
        "# Cách 2: Sử dụng hàm np. subtract ()\n",
        "array_sub_2 = np . subtract ( arr_1 , arr_2 )\n",
        "# In ra màn hình\n",
        "print (\"Cách 1\\n\", array_sub_1 )\n",
        "print (\"Cách 2\\n\", array_sub_2 )"
      ],
      "metadata": {
        "colab": {
          "base_uri": "https://localhost:8080/"
        },
        "id": "789JN5GC3LXC",
        "outputId": "058fabde-b47f-47ef-d90f-b8b6dcbd6383"
      },
      "execution_count": 5,
      "outputs": [
        {
          "output_type": "stream",
          "name": "stdout",
          "text": [
            " arr_1 : [1 2 3 4]\n",
            " arr_2 : [5 6 7 8]\n",
            "Cách 1\n",
            " [-4 -4 -4 -4]\n",
            "Cách 2\n",
            " [-4 -4 -4 -4]\n"
          ]
        }
      ]
    },
    {
      "cell_type": "code",
      "source": [
        "# aivietnam\n",
        "import numpy as np\n",
        "\n",
        "# Tạo hai mảng 1D\n",
        "arr_1 = np . array ([1 , 2 , 3 , 4])\n",
        "arr_2 = np . array ([5 , 6 , 7 , 8])\n",
        "# In ra giá trị của hai array\n",
        "print (\" arr_1 :\\n\", arr_1 )\n",
        "print (\" arr_2 :\\n\", arr_2 )\n",
        "# Tích hai array\n",
        "# Cách 1: Sử dụng toán tử ’* ’\n",
        "result_mul_1 = arr_1 * arr_2\n",
        "# Cách 2: Sử dụng hàm np. multiply ()\n",
        "result_mul_2 = np . multiply ( arr_1 , arr_2 )\n",
        "# In ra màn hình\n",
        "print (\"Cách 1:\\n\", result_mul_1 )\n",
        "print (\"Cách 2:\\n\", result_mul_2 )"
      ],
      "metadata": {
        "colab": {
          "base_uri": "https://localhost:8080/"
        },
        "id": "2wm_LKPH3w4h",
        "outputId": "34468831-cd24-4ea6-8d9a-6a933ab30aca"
      },
      "execution_count": 7,
      "outputs": [
        {
          "output_type": "stream",
          "name": "stdout",
          "text": [
            " arr_1 :\n",
            " [1 2 3 4]\n",
            " arr_2 :\n",
            " [5 6 7 8]\n",
            "Cách 1:\n",
            " [ 5 12 21 32]\n",
            "Cách 2:\n",
            " [ 5 12 21 32]\n"
          ]
        }
      ]
    },
    {
      "cell_type": "code",
      "source": [
        "# aivietnam\n",
        "import numpy as np\n",
        "\n",
        "# Tạo hai mảng 1D\n",
        "arr_1 = np . array ([1 , 2 , 3 , 4])\n",
        "arr_2 = np . array ([5 , 6 , 7 , 8])\n",
        "# In ra giá trị của hai array\n",
        "print (\" arr_1 :\\n\", arr_1 )\n",
        "print (\" arr_2 :\\n\", arr_2 )\n",
        "# Chia hai array\n",
        "# Cách 1: Sử dụng toán tử ’/ ’\n",
        "result_div_1 = arr_1 / arr_2\n",
        "# Cách 2: Sử dụng hàm np. divide ()\n",
        "result_div_2 = np . divide ( arr_1 , arr_2 )\n",
        "# In ra màn hình\n",
        "print (\"Cách 1:\\n\", result_div_1 )\n",
        "print (\"Cách 2:\\n\", result_div_2 )"
      ],
      "metadata": {
        "colab": {
          "base_uri": "https://localhost:8080/"
        },
        "id": "cFGLb1Yh4Imq",
        "outputId": "8d6d1845-a693-4ffd-a856-d5d32b7d871a"
      },
      "execution_count": 8,
      "outputs": [
        {
          "output_type": "stream",
          "name": "stdout",
          "text": [
            " arr_1 :\n",
            " [1 2 3 4]\n",
            " arr_2 :\n",
            " [5 6 7 8]\n",
            "Cách 1:\n",
            " [0.2        0.33333333 0.42857143 0.5       ]\n",
            "Cách 2:\n",
            " [0.2        0.33333333 0.42857143 0.5       ]\n"
          ]
        }
      ]
    },
    {
      "cell_type": "code",
      "source": [
        "# aivietnam\n",
        "import numpy as np\n",
        "\n",
        "# Tạo hai mảng 1D\n",
        "arr_1 = np . array ([1 , 2])\n",
        "arr_2 = np . array ([2 , 3])\n",
        "# In ra giá trị của hai array\n",
        "print (\" arr_1 :\\n\", arr_1 )\n",
        "print (\" arr_2 :\\n\", arr_2 )\n",
        "# Sử dụng hàm np.dot ()\n",
        "result_dot = np . dot ( arr_1 , arr_2 )\n",
        "# In ra màn hình\n",
        "print (\"Kết quả tích vô hướng arr_1 , arr_2:\\n\", result_dot )"
      ],
      "metadata": {
        "colab": {
          "base_uri": "https://localhost:8080/"
        },
        "id": "CjIqsWlMnKut",
        "outputId": "b6ed4a09-199f-45ac-a981-86987376d5d4"
      },
      "execution_count": 1,
      "outputs": [
        {
          "output_type": "stream",
          "name": "stdout",
          "text": [
            " arr_1 :\n",
            " [1 2]\n",
            " arr_2 :\n",
            " [2 3]\n",
            "Kết quả tích vô hướng arr_1 , arr_2:\n",
            " 8\n"
          ]
        }
      ]
    },
    {
      "cell_type": "code",
      "source": [
        "# aivietnam\n",
        "import numpy as np\n",
        "\n",
        "# Tạo 2 mảng 2D\n",
        "arr_1 = np . array ([[1 , 2] , [3 , 4]])\n",
        "arr_2 = np . array ([[5 , 6] , [7 , 8]])\n",
        "\n",
        "# In ra giá trị của hai array\n",
        "print (\" arr_1 :\\n\", arr_1 )\n",
        "print (\" arr_2 :\\n\", arr_2 )\n",
        "\n",
        "# Sử dụng hàm np. matmul ()\n",
        "result_matmul = np . matmul ( arr_1 , arr_2 )\n",
        "\n",
        "# In ra màn hình\n",
        "print (\"Kết quả tích arr_1 , arr_2 :\\n\",\n",
        "result_matmul )"
      ],
      "metadata": {
        "colab": {
          "base_uri": "https://localhost:8080/"
        },
        "id": "5RDgQNUzomXs",
        "outputId": "c2800b92-505b-484d-8dee-238a9123050a"
      },
      "execution_count": 2,
      "outputs": [
        {
          "output_type": "stream",
          "name": "stdout",
          "text": [
            " arr_1 :\n",
            " [[1 2]\n",
            " [3 4]]\n",
            " arr_2 :\n",
            " [[5 6]\n",
            " [7 8]]\n",
            "Kết quả tích arr_1 , arr_2 :\n",
            " [[19 22]\n",
            " [43 50]]\n"
          ]
        }
      ]
    },
    {
      "cell_type": "code",
      "source": [
        "# aivietnam\n",
        "import numpy as np\n",
        "\n",
        "#Tạo mảng 2d\n",
        "arr_1 = np . array ([[1 , 2] , [3 , 4]])\n",
        "# Chuy ển vị array\n",
        "# Cách 1: Sử dụng hàm np. transpose ()\n",
        "arr_transposed_1 = np . transpose ( arr_1 )\n",
        "# Cách 2: Sử dụng toán tử T\n",
        "arr_transposed_2 = arr_1 . T\n",
        "# In ra màn hình\n",
        "print (\" array 1:\\n\", arr_1 )\n",
        "print (\" array 1 sau khi chuy ển vị, cách 1:\\n\", arr_transposed_1 )\n",
        "print (\" array 1 sau khi chuy ển vị, cách 2:\\n\", arr_transposed_2 )"
      ],
      "metadata": {
        "colab": {
          "base_uri": "https://localhost:8080/"
        },
        "id": "Jq6x42AExyrd",
        "outputId": "30a7dfdc-6935-4c7a-d0c0-53fbb6fae204"
      },
      "execution_count": 3,
      "outputs": [
        {
          "output_type": "stream",
          "name": "stdout",
          "text": [
            " array 1:\n",
            " [[1 2]\n",
            " [3 4]]\n",
            " array 1 sau khi chuy ển vị, cách 1:\n",
            " [[1 3]\n",
            " [2 4]]\n",
            " array 1 sau khi chuy ển vị, cách 2:\n",
            " [[1 3]\n",
            " [2 4]]\n"
          ]
        }
      ]
    },
    {
      "cell_type": "code",
      "source": [
        "# aivietnam\n",
        "import numpy as np\n",
        "\n",
        "# Tạo mảng 2D\n",
        "arr = np . array ([[1 , 2 , 3] , [4 , 5 , 6]])\n",
        "\n",
        "# Tính tổng của tất cả các phần tử\n",
        "total_sum = np .sum( arr )\n",
        "\n",
        "# Tính tổng theo cột\n",
        "column_sum = np .sum( arr , axis =0)\n",
        "\n",
        "# Tính tổng theo hàng\n",
        "row_sum = np .sum ( arr , axis =1)\n",
        "# In ra màn hình\n",
        "print (\"Mảng :\\n\", arr )\n",
        "print (\"Tổng của tất cả các phần tử trong mảng :\\n\", total_sum )\n",
        "print (\"Tổng theo cột:\\n\", column_sum )\n",
        "print (\"Tổng theo hàng :\\n\", row_sum )"
      ],
      "metadata": {
        "colab": {
          "base_uri": "https://localhost:8080/"
        },
        "id": "XF8tkFdhzkMN",
        "outputId": "1f1a0bba-3357-4f57-81c0-bab9483d4b6b"
      },
      "execution_count": 4,
      "outputs": [
        {
          "output_type": "stream",
          "name": "stdout",
          "text": [
            "Mảng :\n",
            " [[1 2 3]\n",
            " [4 5 6]]\n",
            "Tổng của tất cả các phần tử trong mảng :\n",
            " 21\n",
            "Tổng theo cột:\n",
            " [5 7 9]\n",
            "Tổng theo hàng :\n",
            " [ 6 15]\n"
          ]
        }
      ]
    },
    {
      "cell_type": "code",
      "source": [
        "# aivietnam\n",
        "import numpy as np\n",
        "\n",
        "# Tạo mảng 1 chiều\n",
        "arr = np . array ([1 , 2, 3 , 4 , 5])\n",
        "\n",
        "# Tính trung bình cộng các phần tử mảng\n",
        "mean_value = np . mean ( arr )\n",
        "print (\" Trung bình cộng các phần tử trong mảng:\", mean_value )"
      ],
      "metadata": {
        "colab": {
          "base_uri": "https://localhost:8080/"
        },
        "id": "LXOEtIzc0lks",
        "outputId": "03c7705c-e316-4807-ff55-e6e0c3b5ff6a"
      },
      "execution_count": 6,
      "outputs": [
        {
          "output_type": "stream",
          "name": "stdout",
          "text": [
            " Trung bình cộng các phần tử trong mảng: 3.0\n"
          ]
        }
      ]
    },
    {
      "cell_type": "code",
      "source": [
        "# aivietnam\n",
        "import numpy as np\n",
        "\n",
        "# Tạo vector\n",
        "vector = np . array ([1 , 2 , 3])\n",
        "\n",
        "# Tính chuẩn Euclid(độ dài) của vector\n",
        "norm = np . linalg . norm ( vector )\n",
        "print (\" Chu ẩn Euclid của vector :\", norm )"
      ],
      "metadata": {
        "colab": {
          "base_uri": "https://localhost:8080/"
        },
        "id": "gbd-ejEa03Gq",
        "outputId": "f3c11751-3ea4-4fc4-b7d2-96b18c73d8e4"
      },
      "execution_count": 8,
      "outputs": [
        {
          "output_type": "stream",
          "name": "stdout",
          "text": [
            " Chu ẩn Euclid của vector : 3.7416573867739413\n"
          ]
        }
      ]
    },
    {
      "cell_type": "code",
      "source": [
        "# aivietnam\n",
        "import numpy as np\n",
        "\n",
        "# Tạo ma trận hệ số A\n",
        "A = np . array ([[3 , 1] , [1 , 2]])\n",
        "# Tạo vector hằng số b\n",
        "b = np . array ([9 , 8])\n",
        "# Giải hệ phương trình tuyến tính\n",
        "x = np . linalg . solve (A , b )\n",
        "print (\" Nghi ệm của hệ phương trình:\", x )"
      ],
      "metadata": {
        "colab": {
          "base_uri": "https://localhost:8080/"
        },
        "id": "aPjtNPhV1C9N",
        "outputId": "c4476c7f-3d41-4a06-c50c-45b76ea35aad"
      },
      "execution_count": 10,
      "outputs": [
        {
          "output_type": "stream",
          "name": "stdout",
          "text": [
            " Nghi ệm của hệ phương trình: [2. 3.]\n"
          ]
        }
      ]
    },
    {
      "cell_type": "code",
      "source": [
        "# aivietnam\n",
        "import numpy as np\n",
        "\n",
        "# Tạo mảng 1 chiều\n",
        "arr = np . array ([1 , 2, 3])\n",
        "# Cộng số 2 vào từng phần tử của mảng\n",
        "result = arr + 2\n",
        "print (\"Kết quả:\", result )"
      ],
      "metadata": {
        "colab": {
          "base_uri": "https://localhost:8080/"
        },
        "id": "3Eo17Brq1jDx",
        "outputId": "df568a0a-5661-456e-aba2-5ae1ec3b51fe"
      },
      "execution_count": 11,
      "outputs": [
        {
          "output_type": "stream",
          "name": "stdout",
          "text": [
            "Kết quả: [3 4 5]\n"
          ]
        }
      ]
    },
    {
      "cell_type": "code",
      "source": [],
      "metadata": {
        "id": "1l5UIK7p3NTy"
      },
      "execution_count": null,
      "outputs": []
    },
    {
      "cell_type": "code",
      "source": [
        "# aivietnam\n",
        "import numpy as np\n",
        "\n",
        "# Tạo mảng 2 chiều\n",
        "arr2d = np . array ([[1 , 2 , 3] , [4 , 5 , 6]])\n",
        "# Tạo mảng 1 chiều\n",
        "arr1d = np . array ([1 , 2 , 3])\n",
        "# Cộng hai mảng\n",
        "result = arr2d + arr1d\n",
        "print (\" array 2d:\\n\", arr2d )\n",
        "print (\" array 1d:\\n\", arr1d )\n",
        "print (\"Kết quả:\\n\", result )"
      ],
      "metadata": {
        "colab": {
          "base_uri": "https://localhost:8080/"
        },
        "id": "BdQHV0hS2_Qk",
        "outputId": "d18ee1fa-b82b-4138-f514-a060222a3930"
      },
      "execution_count": 13,
      "outputs": [
        {
          "output_type": "stream",
          "name": "stdout",
          "text": [
            " array 2d:\n",
            " [[1 2 3]\n",
            " [4 5 6]]\n",
            " array 1d:\n",
            " [1 2 3]\n",
            "Kết quả:\n",
            " [[2 4 6]\n",
            " [5 7 9]]\n"
          ]
        }
      ]
    },
    {
      "cell_type": "code",
      "source": [
        "# aivietnam\n",
        "import numpy as np\n",
        "\n",
        "# Tạo mảng 3x1\n",
        "arr1 = np . array ([[1] , [2] , [3]])\n",
        "# Tạo mảng 1x3\n",
        "arr2 = np . array ([10 , 20 , 30])\n",
        "# Nhân hai mảng\n",
        "result = arr1 * arr2\n",
        "print (\" array 1:\\n\", arr1 )\n",
        "print (\" array 2:\\n\", arr2 )\n",
        "print (\"Kết quả:\\n\", result )"
      ],
      "metadata": {
        "colab": {
          "base_uri": "https://localhost:8080/"
        },
        "id": "iDs7akLY3Oxd",
        "outputId": "14dbf991-bc69-4a79-8b6b-c6fa8e225184"
      },
      "execution_count": 15,
      "outputs": [
        {
          "output_type": "stream",
          "name": "stdout",
          "text": [
            " array 1:\n",
            " [[1]\n",
            " [2]\n",
            " [3]]\n",
            " array 2:\n",
            " [10 20 30]\n",
            "Kết quả:\n",
            " [[10 20 30]\n",
            " [20 40 60]\n",
            " [30 60 90]]\n"
          ]
        }
      ]
    },
    {
      "cell_type": "code",
      "source": [
        "# aivietnam\n",
        "import numpy as np\n",
        "\n",
        "# Tạo mảng 3 chiều\n",
        "arr3d = np . array ([[[1 , 2 , 3] , [4 , 5 , 6]] ,\n",
        "[[7 , 8 , 9] , [10 , 11 , 12]]])\n",
        "\n",
        "# Tạo mảng 1 chiều\n",
        "arr1d = np . array ([1 , 2 , 3])\n",
        "\n",
        "# Cộng hai mảng\n",
        "result = arr3d + arr1d\n",
        "\n",
        "print (\" array 3d:\\n\", arr3d )\n",
        "print (\" array 1d:\\n\", arr1d )\n",
        "print (\"Kết quả:\\n\", result )"
      ],
      "metadata": {
        "colab": {
          "base_uri": "https://localhost:8080/"
        },
        "id": "8WV3n-gb3dcP",
        "outputId": "e8555f46-e82b-479d-ad0e-ff658c47794e"
      },
      "execution_count": 16,
      "outputs": [
        {
          "output_type": "stream",
          "name": "stdout",
          "text": [
            " array 3d:\n",
            " [[[ 1  2  3]\n",
            "  [ 4  5  6]]\n",
            "\n",
            " [[ 7  8  9]\n",
            "  [10 11 12]]]\n",
            " array 1d:\n",
            " [1 2 3]\n",
            "Kết quả:\n",
            " [[[ 2  4  6]\n",
            "  [ 5  7  9]]\n",
            "\n",
            " [[ 8 10 12]\n",
            "  [11 13 15]]]\n"
          ]
        }
      ]
    },
    {
      "cell_type": "code",
      "source": [
        "# aivietnam\n",
        "import numpy as np\n",
        "\n",
        "# Định nghĩa hàm tính tổng\n",
        "def sum_of_elements ( arr ):\n",
        "  return np .sum( arr )\n",
        "# Tạo mảng 2 chiều\n",
        "arr2d = np . array ([[1 , 2 , 3] , [4 , 5 , 6] ,\n",
        "[7 , 8 , 9]])\n",
        "# Áp dụng hàm tính tổng lên từng hàng của mảng\n",
        "result = np . apply_along_axis (sum_of_elements , axis =1 , arr = arr2d )\n",
        "print (\"Tổng các phần tử trong mỗi hàng:\", result )"
      ],
      "metadata": {
        "colab": {
          "base_uri": "https://localhost:8080/"
        },
        "id": "-uRkVA9X36f-",
        "outputId": "d10d5c23-a40f-4f02-fcad-3709555191c9"
      },
      "execution_count": 17,
      "outputs": [
        {
          "output_type": "stream",
          "name": "stdout",
          "text": [
            "Tổng các phần tử trong mỗi hàng: [ 6 15 24]\n"
          ]
        }
      ]
    },
    {
      "cell_type": "code",
      "source": [
        "# aivietnam\n",
        "import numpy as np\n",
        "\n",
        "# Định nghĩa hàm chuy ển đổi nhiệt độ\n",
        "def celsius_to_fahrenheit ( c ) :\n",
        "  return ( c * 9/5) + 32\n",
        "# Vector hóa hàm celsius_to_fahrenheit\n",
        "vectorized_conversion = np . vectorize (celsius_to_fahrenheit )\n",
        "# Tạo mảng nhiệt độ Celsius\n",
        "celsius = np . array ([0 , 20 , 37 , 100])\n",
        "# Áp dụng hàm vector hóa lên mảng\n",
        "fahrenheit = vectorized_conversion ( celsius)\n",
        "print (\" Chuy ển đổi từ Celsius sang Fahrenheit :\", fahrenheit )"
      ],
      "metadata": {
        "colab": {
          "base_uri": "https://localhost:8080/"
        },
        "id": "kaekRGgt4IEF",
        "outputId": "e81094cf-7068-48d4-953b-4966f005f4a6"
      },
      "execution_count": 19,
      "outputs": [
        {
          "output_type": "stream",
          "name": "stdout",
          "text": [
            " Chuy ển đổi từ Celsius sang Fahrenheit : [ 32.   68.   98.6 212. ]\n"
          ]
        }
      ]
    }
  ]
}